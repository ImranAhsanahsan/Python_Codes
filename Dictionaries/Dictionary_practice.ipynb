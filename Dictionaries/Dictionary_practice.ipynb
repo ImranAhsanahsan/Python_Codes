{
 "cells": [
  {
   "cell_type": "markdown",
   "id": "3a86366d-b1e6-492a-8f15-c8ce6ce61e56",
   "metadata": {},
   "source": [
    "<h1>Dictionary Basic to advance Concepts Codes</h1>"
   ]
  },
  {
   "cell_type": "code",
   "execution_count": 10,
   "id": "d1930e9e-b00c-4246-9f2b-e0d936a42e5b",
   "metadata": {},
   "outputs": [
    {
     "name": "stdout",
     "output_type": "stream",
     "text": [
      "Imran\n"
     ]
    }
   ],
   "source": [
    "print (\"Imran\")"
   ]
  },
  {
   "cell_type": "code",
   "execution_count": 34,
   "id": "8bf5daca-20ae-4f47-9b07-292dfdae9023",
   "metadata": {},
   "outputs": [
    {
     "name": "stdout",
     "output_type": "stream",
     "text": [
      "Name: Ali\n",
      "Age: 2\n",
      "Grade: A\n",
      "Run the dictionary at Once{'name': 'Ali', 'age': 2, 'grade': 'A'}\n",
      "Run the dictionary with ,  {'name': 'Ali', 'age': 2, 'grade': 'A'}\n"
     ]
    }
   ],
   "source": [
    "# Ek basic dictionary\n",
    "student = {\n",
    "    \"name\": \"Ali\",\n",
    "    \"age\": 2,\n",
    "    \"grade\": \"A\"\n",
    "}\n",
    "\n",
    "# Access karna\n",
    "print(\"Name:\", student[\"name\"])\n",
    "print(\"Age:\", student[\"age\"])\n",
    "print(\"Grade:\", student[\"grade\"])\n",
    "\n",
    "print(\"Run the dictionary at Once\"+str(student))   # agr string m convert kr ka print krna ha to ye method ha \n",
    "print(\"Run the dictionary with , \" , student) # , m differ ya ha la aik space khud sa add kr deta ha jysa ka nazr arha ha \n"
   ]
  },
  {
   "cell_type": "markdown",
   "id": "41342de6-b64c-49f9-a37e-24a14cf6a083",
   "metadata": {},
   "source": [
    "<h4>Hum dictionary ma key banata han or use aik value deta ha or ye har kism ka data aik st store kr skta ha </h4>\n"
   ]
  },
  {
   "cell_type": "code",
   "execution_count": 45,
   "id": "d3e0cfa6-b16e-48cb-88a1-bce7a5d112f1",
   "metadata": {},
   "outputs": [
    {
     "name": "stdout",
     "output_type": "stream",
     "text": [
      "ahsan\n"
     ]
    }
   ],
   "source": [
    "imran_dict= {\"key1\":\"imran\", \"key2\":\"ahsan\", \"key3\":\"ahsan sia\", \"key4\":4, \"key5\":6} \n",
    "\n",
    "print(imran_dict[\"key2\"])"
   ]
  },
  {
   "cell_type": "code",
   "execution_count": 53,
   "id": "a14e23db-ece3-45fe-b6e6-f40e8373af5b",
   "metadata": {},
   "outputs": [
    {
     "name": "stdout",
     "output_type": "stream",
     "text": [
      "[('key1', 'imran'), ('key2', 'ahsan'), ('key6', 'new_value'), ('key3', 'ahsan sia'), ('key4', 4), ('key5', 6)]\n",
      "{'key1': 'imran', 'key2': 'ahsan', 'key6': 'new_value', 'key3': 'ahsan sia', 'key4': 4, 'key5': 6}\n"
     ]
    }
   ],
   "source": [
    "imran_dict = {\"key1\": \"imran\", \"key2\": \"ahsan\", \"key3\": \"ahsan sia\", \"key4\": 4, \"key5\": 6}\n",
    "\n",
    "# Step 1: Convert the dictionary into a list of key-value pairs\n",
    "items = list(imran_dict.items())\n",
    "\n",
    "# Step 2: Insert the new key-value pair at the desired index\n",
    "items.insert(2, (\"key6\", \"new_value\"))  # Insert at index 2\n",
    "\n",
    "print(items) #It will porint as a list [] \n",
    "\n",
    "# Step 3: Convert the list back into a dictionary\n",
    "imran_dict = dict(items)\n",
    "\n",
    "#dict() is a built-in Python function that takes an iterable of key-value pairs and creates a dictionary from it.\n",
    "\n",
    "print(imran_dict)   # It will print as a dictionary\n"
   ]
  },
  {
   "cell_type": "code",
   "execution_count": null,
   "id": "304e0abd-997b-455d-b9f5-28b3e34e54ba",
   "metadata": {},
   "outputs": [],
   "source": []
  }
 ],
 "metadata": {
  "kernelspec": {
   "display_name": "Python 3 (ipykernel)",
   "language": "python",
   "name": "python3"
  },
  "language_info": {
   "codemirror_mode": {
    "name": "ipython",
    "version": 3
   },
   "file_extension": ".py",
   "mimetype": "text/x-python",
   "name": "python",
   "nbconvert_exporter": "python",
   "pygments_lexer": "ipython3",
   "version": "3.12.4"
  }
 },
 "nbformat": 4,
 "nbformat_minor": 5
}
